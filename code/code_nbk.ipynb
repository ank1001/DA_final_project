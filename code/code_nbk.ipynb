{
 "cells": [
  {
   "cell_type": "code",
   "execution_count": 13,
   "metadata": {},
   "outputs": [],
   "source": [
    "import numpy as np\n",
    "import pandas as pd\n",
    "from scipy.optimize import minimize\n",
    "from scipy.stats import norm\n",
    "import glob\n",
    "import time\n",
    "import pickle\n",
    "\n",
    "EPSILON = 1e-10"
   ]
  },
  {
   "cell_type": "code",
   "execution_count": 14,
   "metadata": {},
   "outputs": [
    {
     "name": "stdout",
     "output_type": "stream",
     "text": [
      "Columns in DataFrame: Index(['match_id', 'start_date', 'innings', 'ball', 'runs_off_bat', 'extras',\n",
      "       'wicket_type', 'wickets_indicator', 'balls_remaining', 'wickets_fallen',\n",
      "       'wickets_remaining'],\n",
      "      dtype='object')\n"
     ]
    }
   ],
   "source": [
    "def get_iso_data(iso_data_path):\n",
    "\tcsv_files = glob.glob(f'{iso_data_path}/*.csv')\n",
    "\tfiltered_csv_files = [file for file in csv_files if not file.endswith('_info.csv')]\n",
    "\t#print(filtered_csv_files[0:5])\n",
    "\tdf = pd.concat([pd.read_csv(file) for file in filtered_csv_files], ignore_index = True)\n",
    "\t# first innings data\n",
    "\tdf = df[df['innings']==1]\n",
    "\tdf.to_csv('../data/2001to24.csv', index = False)\n",
    "\t#print(df[0:5])\n",
    "\tdf = df[['match_id', 'start_date', 'innings', 'ball', 'runs_off_bat', 'extras', 'wicket_type']]\n",
    "\tdf['wickets_indicator'] = df['wicket_type'].notna().astype(int)\n",
    "\tdf['balls_remaining'] = 300 - ((df['ball'].astype(int) * 6) + ((df['ball'] * 10) % 10).astype(int))\n",
    "\t\t\n",
    "\t# Calculate wickets remaining for each match and innings\n",
    "\tdf['wickets_fallen'] = df.groupby(['match_id', 'innings'])['wickets_indicator'].cumsum()\n",
    "\tdf['wickets_remaining'] = 10 - df['wickets_fallen']\n",
    "\n",
    "\t#print(df[270:300])\n",
    "\treturn df\n",
    "\n",
    "'''\n",
    "iso_df = get_iso_data('../data/recently_added_2_male_csv2')\n",
    "sub_df = iso_df[['match_id', 'start_date', 'innings', 'balls_remaining', 'wickets_remaining', 'wickets_indicator']]\n",
    "sub_df.head()\n",
    "'''\n",
    "df = get_iso_data('../data/recently_added_2_male_csv2')\n",
    "print(\"Columns in DataFrame:\", df.columns)\n"
   ]
  },
  {
   "cell_type": "markdown",
   "metadata": {},
   "source": [
    "# The Components of the distribution function"
   ]
  },
  {
   "cell_type": "markdown",
   "metadata": {},
   "source": [
    "## Probability of extras"
   ]
  },
  {
   "cell_type": "code",
   "execution_count": 15,
   "metadata": {},
   "outputs": [],
   "source": [
    "def get_prob_of_wide_or_no_ball(iso_df):\n",
    "\textras_runs = iso_df['extras'].sum()\n",
    "\ttotal_no_of_balls = iso_df['ball'].count()\n",
    "\tprob_of_wide_or_no_ball = extras_runs/(total_no_of_balls+extras_runs)\n",
    "\tprint(f'extras_runss: {extras_runs}, total_no_of_balls:{total_no_of_balls}')\n",
    "\treturn prob_of_wide_or_no_ball"
   ]
  },
  {
   "cell_type": "markdown",
   "metadata": {},
   "source": [
    "## Wicket Process"
   ]
  },
  {
   "cell_type": "code",
   "execution_count": 16,
   "metadata": {},
   "outputs": [],
   "source": [
    "class WicketProbit:\n",
    "    def __init__(self, df):\n",
    "        self.df = df\n",
    "        #Initial guesses\n",
    "        self.a0 = 1.67\n",
    "        self.a1 = 0.00758\n",
    "        self.a2 = -0.0459\n",
    "        self.a3 = -0.0000160\n",
    "        self.res = None\n",
    "    \n",
    "    def LLF(self, params):\n",
    "        a0, a1, a2, a3 = params\n",
    "        x = -a0 - a1*self.df['balls_remaining'] - a2*self.df['wickets_remaining'] - a3*(self.df['balls_remaining']**2)\n",
    "        llf_col = self.df['wickets_indicator']*np.log(norm.cdf(x) + EPSILON) + (1-self.df['wickets_indicator'])*np.log(1-norm.cdf(x) + EPSILON)\n",
    "        sum = np.sum(llf_col)\n",
    "        return -sum\n",
    "    \n",
    "    def fit(self):\n",
    "        res = minimize(self.LLF, [self.a0, self.a1, self.a2, self.a3])\n",
    "        self.a0, self.a1, self.a2, self.a3 = res.x\n",
    "        self.res = res\n",
    "        return None\n",
    "    \n",
    "    def predict(self, balls_remaining, wickets_remaining):\n",
    "        x = -self.a0 - self.a1*balls_remaining - self.a2*wickets_remaining - self.a3*(balls_remaining**2)\n",
    "        return norm.cdf(x)"
   ]
  },
  {
   "cell_type": "markdown",
   "metadata": {},
   "source": [
    "## Runs Process"
   ]
  },
  {
   "cell_type": "code",
   "execution_count": 17,
   "metadata": {},
   "outputs": [],
   "source": [
    "def compute_llf(val, params, mu0):\n",
    "    a0, a1, a2, a3, mu1, mu2, mu3, mu4, mu5 = params\n",
    "    if val==0:\n",
    "        llf = np.log(norm.cdf((mu0-val))+ EPSILON)\n",
    "    elif val==1:\n",
    "        llf = np.log(norm.cdf((mu1-val)) - norm.cdf((mu0-val))+ EPSILON)\n",
    "    elif val==2:\n",
    "        llf = np.log(norm.cdf((mu2-val)) - norm.cdf((mu1-val))+ EPSILON)\n",
    "    elif val==3:\n",
    "        llf = np.log(norm.cdf((mu3-val)) - norm.cdf((mu2-val))+ EPSILON)\n",
    "    elif val==4:\n",
    "        llf = np.log(norm.cdf((mu4-val)) - norm.cdf((mu3-val))+ EPSILON)\n",
    "    elif val==5:\n",
    "        llf = np.log(norm.cdf((mu5-val)) - norm.cdf((mu4-val))+ EPSILON)\n",
    "    else:\n",
    "        llf = np.log(1-norm.cdf((mu5-val))+ EPSILON)\n",
    "    # it was raising warning because it was trying to compute -ve value for log\n",
    "    # this should resolve the issue\n",
    "    if llf<=0:\n",
    "            llf = EPSILON\n",
    "    return llf"
   ]
  },
  {
   "cell_type": "code",
   "execution_count": 18,
   "metadata": {},
   "outputs": [],
   "source": [
    "class RunsOProbit:\n",
    "    def __init__(self, df):\n",
    "        self.df = df\n",
    "        #Initial guesses\n",
    "        self.a0 = -0.174\n",
    "        self.a1 = -0.00844\n",
    "        self.a2 = 0.130\n",
    "        self.a3 = 0.0000106\n",
    "        #Ordered thresholds\n",
    "        self.mu0 = 0 #Symbolically defined, we set to 0 wlg\n",
    "        self.mu1 = 0.940\n",
    "        self.mu2 = 1.263\n",
    "        self.mu3 = 1.325\n",
    "        self.mu4 = 2.321\n",
    "        self.mu5 = 2.328\n",
    "        self.res = None\n",
    "        \n",
    "    def LLF(self, params):\n",
    "        a0, a1, a2, a3, mu1, mu2, mu3, mu4, mu5 = params\n",
    "        mu0 = self.mu0\n",
    "        # get only the rows where wickets have not fallen\n",
    "        col = self.df[self.df['wickets_indicator']==0]\n",
    "        \n",
    "        # compute the value of x\n",
    "        x = a0 + a1*col['balls_remaining'] + a2*col['wickets_remaining'] + a3*(col['balls_remaining']**2)\n",
    "\n",
    "        # compute the llf for each run value\n",
    "        llf_col = x.apply(lambda val: compute_llf(val, params, mu0))\n",
    "        sum = llf_col.sum()\n",
    "        \n",
    "        return -sum\n",
    "    \n",
    "    def fit(self):\n",
    "        res = minimize(self.LLF, [self.a0, self.a1, self.a2, self.a3, self.mu1, self.mu2, self.mu3, self.mu4, self.mu5])\n",
    "        self.a0, self.a1, self.a2, self.a3, self.mu1, self.mu2, self.mu3, self.mu4, self.mu5 = res.x\n",
    "        self.res = res\n",
    "        return None\n",
    "    \n",
    "    def predict(self, runs, balls_remaining, wickets_remaining):\n",
    "        x = self.a0 + self.a1*balls_remaining + self.a2*wickets_remaining + self.a3*(balls_remaining**2)\n",
    "        if runs == 0:\n",
    "            return norm.cdf(self.mu0-x)\n",
    "        elif runs == 1:\n",
    "            return norm.cdf(self.mu1-x) - norm.cdf(self.mu0-x)\n",
    "        elif runs == 2:\n",
    "            return norm.cdf(self.mu2-x) - norm.cdf(self.mu1-x)\n",
    "        elif runs == 3:\n",
    "            return norm.cdf(self.mu3-x) - norm.cdf(self.mu2-x)\n",
    "        elif runs == 4:\n",
    "            return norm.cdf(self.mu4-x) - norm.cdf(self.mu3-x)\n",
    "        elif runs == 5:\n",
    "            return norm.cdf(self.mu5-x) - norm.cdf(self.mu4-x)\n",
    "        else:\n",
    "            return 1-norm.cdf(self.mu5-x)"
   ]
  },
  {
   "cell_type": "markdown",
   "metadata": {},
   "source": [
    "# Constructing the distribution function"
   ]
  },
  {
   "cell_type": "code",
   "execution_count": 19,
   "metadata": {},
   "outputs": [],
   "source": [
    "def construct_F(max_runs, max_balls, max_wickets, wicket_model, runs_model, p_extra):\n",
    "    F = np.zeros((max_runs+1, max_balls+1, max_wickets+1))\n",
    "    \n",
    "    #Boundary conditions\n",
    "    F[:,0,:] = 1 #No balls left, so win is impossible\n",
    "    F[:,:,0] = 1 #No wickets left, so win is impossible\n",
    "    \n",
    "    #Filling in the rest of the table using the recursion\n",
    "    for b in range(1, max_balls+1):\n",
    "        for w in range(1, max_wickets+1):\n",
    "            wicket_prob = wicket_model.predict(b, w)\n",
    "            runs_0_prob = runs_model.predict(0,b,w)\n",
    "            runs_1_prob = runs_model.predict(1,b,w)\n",
    "            runs_2_prob = runs_model.predict(2,b,w)\n",
    "            runs_3_prob = runs_model.predict(3,b,w)\n",
    "            runs_4_prob = runs_model.predict(4,b,w)\n",
    "            runs_5_prob = runs_model.predict(5,b,w)\n",
    "            runs_6_prob = runs_model.predict(6,b,w)\n",
    "            for r in range(max_runs+1):\n",
    "                term1 = p_extra*F[r-1,b,w] if r>0 else 0 #Extra ball\n",
    "                term2 = (1-p_extra)*wicket_prob*F[r,b-1,w-1] #Wicket\n",
    "                #term3 = (1-p_extra)*(1-wicket_model.predict(b, w))*sum([runs_model.predict(i, b, w)*F[r-i,b-1,w] for i in range(7)]) #Runs\n",
    "                \n",
    "                #To accomodate for the cases when the runs scored can be greater than the remaining runs\n",
    "                term3 = 0\n",
    "                if r >= 0:\n",
    "                    term3 += (1-p_extra)*(1-wicket_prob)*runs_0_prob*F[r-0,b-1,w] #Runs\n",
    "                if r >= 1:\n",
    "                    term3 += (1-p_extra)*(1-wicket_prob)*runs_1_prob*F[r-1,b-1,w] #Runs\n",
    "                if r >= 2:\n",
    "                    term3 += (1-p_extra)*(1-wicket_prob)*runs_2_prob*F[r-2,b-1,w] #Runs\n",
    "                if r >= 3:\n",
    "                    term3 += (1-p_extra)*(1-wicket_prob)*runs_3_prob*F[r-3,b-1,w] #Runs\n",
    "                if r >= 4:\n",
    "                    term3 += (1-p_extra)*(1-wicket_prob)*runs_4_prob*F[r-4,b-1,w] #Runs\n",
    "                if r >= 5:\n",
    "                    term3 += (1-p_extra)*(1-wicket_prob)*runs_5_prob*F[r-5,b-1,w] #Runs\n",
    "                if r >= 6:\n",
    "                    term3 += (1-p_extra)*(1-wicket_prob)*runs_6_prob*F[r-6,b-1,w] #Runs\n",
    "                \n",
    "                F[r,b,w] = term1 + term2 + term3\n",
    "    \n",
    "    return F"
   ]
  },
  {
   "cell_type": "markdown",
   "metadata": {},
   "source": [
    "# *sighs* Training "
   ]
  },
  {
   "cell_type": "code",
   "execution_count": 20,
   "metadata": {},
   "outputs": [],
   "source": [
    "def training(data_path):\n",
    "    #import data\n",
    "    time1 = time.time()\n",
    "    dataframe = get_iso_data(data_path)\n",
    "    time2 = time.time()\n",
    "\n",
    "    print(f'preprocessing time: {time2 - time1}')\n",
    "    #Setup the three processes\n",
    "    px = get_prob_of_wide_or_no_ball(dataframe) #Probability of wide or no ball\n",
    "    \n",
    "    wicket_model = WicketProbit(dataframe) #Wicket model\n",
    "    print('fitting...')\n",
    "\n",
    "    time3 = time.time()\n",
    "    wicket_model.fit()\n",
    "    time4 = time.time()\n",
    "    print(\"Wicket process fit!\")\n",
    "    print(f'wicket process fitting time: {time4 - time3}')\n",
    "    \n",
    "\n",
    "    runs_model = RunsOProbit(dataframe) #Runs model\n",
    "    print('fitting...')\n",
    "\n",
    "    time5 = time.time()\n",
    "    runs_model.fit()\n",
    "    time6 = time.time()\n",
    "    print(\"Runs process fit!\")\n",
    "    print(f'Runs process fitting time: {time6 - time5}')\n",
    "    \n",
    "    \n",
    "    #Construct the F table\n",
    "    max_runs = 500\n",
    "    max_balls = 300\n",
    "    max_wickets = 10\n",
    "\n",
    "    time7 = time.time()\n",
    "    print(f'constructing F ...')\n",
    "    F = construct_F(max_runs, max_balls, max_wickets, wicket_model, runs_model, px)\n",
    "    time8 = time.time()\n",
    "    print(f'F construction time: {time8 - time7}')\n",
    "\n",
    "    print(f'Total execution time: {time8 - time1}')\n",
    "    \n",
    "    return F, wicket_model, runs_model, px"
   ]
  },
  {
   "cell_type": "code",
   "execution_count": 21,
   "metadata": {},
   "outputs": [
    {
     "name": "stdout",
     "output_type": "stream",
     "text": [
      "preprocessing time: 17.284932613372803\n",
      "extras_runss: 34934, total_no_of_balls:726239\n",
      "fitting...\n",
      "Wicket process fit!\n",
      "wicket process fitting time: 23.52197527885437\n",
      "fitting...\n",
      "Runs process fit!\n",
      "Runs process fitting time: 543.7909910678864\n",
      "constructing F ...\n",
      "F construction time: 11.997541904449463\n",
      "Total execution time: 596.5974431037903\n"
     ]
    }
   ],
   "source": [
    "data_path = \"../data/odis_male_csv2\"\n",
    "F, wicket_model, runs_model, px = training(data_path)"
   ]
  },
  {
   "cell_type": "code",
   "execution_count": 23,
   "metadata": {},
   "outputs": [
    {
     "name": "stdout",
     "output_type": "stream",
     "text": [
      "Wickets process:\n",
      "Final Log-Likelihood: -85000.44274791362\n",
      "Final Parameters:\n",
      "a0: 0.8485612612059278, a1: 0.003491470865920923, a2: 0.1775310582050424, a3: -1.919091993089362e-05\n",
      "---------------------------------------------------------------------------------------------\n",
      "Runs process:\n",
      "Final Log-Likelihood: 7.062399999999997e-05\n",
      "Final Parameters:\n",
      "a0: -0.174, a1: -0.00844, a2: 0.13, a3: 1.06e-05\n",
      "mu0: 0, mu1: 0.94, mu2: 1.263, mu3: 1.325, mu4: 2.321, mu5: 2.328\n",
      "---------------------------------------------------------------------------------------------\n"
     ]
    }
   ],
   "source": [
    "#Inspect the models and their LLF's\n",
    "print(\"Wickets process:\")\n",
    "final_llf = -wicket_model.LLF(wicket_model.res.x)\n",
    "print(f'Final Log-Likelihood: {final_llf}')\n",
    "print('Final Parameters:')\n",
    "print(f'a0: {wicket_model.a0}, a1: {wicket_model.a1}, a2: {wicket_model.a2}, a3: {wicket_model.a3}')\n",
    "print('---------------------------------------------------------------------------------------------')\n",
    "print(\"Runs process:\")\n",
    "final_llf = -runs_model.LLF(runs_model.res.x)\n",
    "print(f'Final Log-Likelihood: {final_llf}')\n",
    "print('Final Parameters:')\n",
    "print(f'a0: {runs_model.a0}, a1: {runs_model.a1}, a2: {runs_model.a2}, a3: {runs_model.a3}')\n",
    "print(f'mu0: {runs_model.mu0}, mu1: {runs_model.mu1}, mu2: {runs_model.mu2}, mu3: {runs_model.mu3}, mu4: {runs_model.mu4}, mu5: {runs_model.mu5}')\n",
    "print('---------------------------------------------------------------------------------------------')"
   ]
  },
  {
   "cell_type": "code",
   "execution_count": 27,
   "metadata": {},
   "outputs": [
    {
     "name": "stdout",
     "output_type": "stream",
     "text": [
      "     Case 1    Case 2    Case 3    Case 4\n",
      "0  0.024749  0.002703  0.060854  0.076849\n",
      "1  0.626725  0.375976  0.661241  0.380887\n",
      "2  0.226459  0.337476  0.181470  0.303909\n",
      "3  0.036048  0.086351  0.025305  0.072922\n",
      "4  0.005008  0.013871  0.003379  0.011482\n",
      "5  0.032534  0.118765  0.020504  0.094397\n",
      "6  0.000055  0.000319  0.000030  0.000238\n",
      "7  0.002526  0.018644  0.001321  0.013421\n"
     ]
    }
   ],
   "source": [
    "table4 = np.zeros((8, 4))\n",
    "cases = [[300,10],[120,10],[120,3],[6,3]]\n",
    "for i in range(4):\n",
    "    balls_left = cases[i][0]\n",
    "    wickets_left = cases[i][1]\n",
    "    x = -wicket_model.a0 - wicket_model.a1*balls_left - wicket_model.a2*wickets_left - wicket_model.a3*(balls_left**2)\n",
    "    y = runs_model.a0 + runs_model.a1*balls_left + runs_model.a2*wickets_left + runs_model.a3*(balls_left**2)\n",
    "    table4[0,i] = (1-px)*(norm.cdf(x))\n",
    "    table4[1,i] = (1-px)*(1-norm.cdf(x))*(norm.cdf(runs_model.mu0-y))\n",
    "    table4[2,i] = (1-px)*(1-norm.cdf(x))*(norm.cdf(runs_model.mu1-y) - norm.cdf(runs_model.mu0-y))\n",
    "    table4[3,i] = (1-px)*(1-norm.cdf(x))*(norm.cdf(runs_model.mu2-y) - norm.cdf(runs_model.mu1-y))\n",
    "    table4[4,i] = (1-px)*(1-norm.cdf(x))*(norm.cdf(runs_model.mu3-y) - norm.cdf(runs_model.mu2-y))\n",
    "    table4[5,i] = (1-px)*(1-norm.cdf(x))*(norm.cdf(runs_model.mu4-y) - norm.cdf(runs_model.mu3-y))\n",
    "    table4[6,i] = (1-px)*(1-norm.cdf(x))*(norm.cdf(runs_model.mu5-y) - norm.cdf(runs_model.mu4-y))\n",
    "    table4[7,i] = (1-px)*(1-norm.cdf(x))*(1-norm.cdf(runs_model.mu5-y))\n",
    "    \n",
    "print(pd.DataFrame(table4, columns = ['Case 1', 'Case 2', 'Case 3', 'Case 4'], index = ['0', '1', '2', '3', '4', '5', '6', '7']))"
   ]
  },
  {
   "cell_type": "markdown",
   "metadata": {},
   "source": [
    "# Saving the final parameters"
   ]
  },
  {
   "cell_type": "code",
   "execution_count": null,
   "metadata": {},
   "outputs": [],
   "source": [
    "np.save('../model/F.npy', F)\n",
    "final_wicket_params = {'a0': wicket_model.a0, 'a1': wicket_model.a1, 'a2': wicket_model.a2, 'a3': wicket_model.a3}\n",
    "final_runs_params = {'a0': runs_model.a0, 'a1': runs_model.a1, 'a2': runs_model.a2, 'a3': runs_model.a3, 'mu1': runs_model.mu1, 'mu2': runs_model.mu2, 'mu3': runs_model.mu3, 'mu4': runs_model.mu4, 'mu5': runs_model.mu5}\n",
    "np.save('../model/px.npy', px)\n",
    "with open('../model/wicket_params.pkl', 'wb') as file:\n",
    "    pickle.dump(final_wicket_params, file)\n",
    "with open('../model/runs_params.pkl', 'wb') as file:\n",
    "    pickle.dump(final_runs_params, file)"
   ]
  },
  {
   "cell_type": "markdown",
   "metadata": {},
   "source": [
    "# Higher level functions"
   ]
  },
  {
   "cell_type": "code",
   "execution_count": null,
   "metadata": {},
   "outputs": [],
   "source": [
    "def game_state_info(F, runs_model, wicket_model, px, runs_remaining, balls_left, wickets_left):\n",
    "    #Computes the probabilities of various next ball outcomes given a certain game state in the second Innings\n",
    "    win_prob = 1 - F[runs_remaining, balls_left, wickets_left]\n",
    "    x = -wicket_model.a0 - wicket_model.a1*balls_left - wicket_model.a2*wickets_left - wicket_model.a3*(balls_left**2)\n",
    "    y = runs_model.a0 + runs_model.a1*balls_left + runs_model.a2*wickets_left + runs_model.a3*(balls_left**2)\n",
    "    prob_extra = px\n",
    "    prob_wicket = (1 - px)*(norm.cdf(x))\n",
    "    prob_0run = (1 - px)*(1 - norm.cdf(x))*(norm.cdf(runs_model.mu0-y))\n",
    "    prob_1run = (1 - px)*(1 - norm.cdf(x))*(norm.cdf(runs_model.mu1-y) - norm.cdf(runs_model.mu0-y))\n",
    "    prob_2run = (1 - px)*(1 - norm.cdf(x))*(norm.cdf(runs_model.mu2-y) - norm.cdf(runs_model.mu1-y))\n",
    "    prob_3run = (1 - px)*(1 - norm.cdf(x))*(norm.cdf(runs_model.mu3-y) - norm.cdf(runs_model.mu2-y))\n",
    "    prob_4run = (1 - px)*(1 - norm.cdf(x))*(norm.cdf(runs_model.mu4-y) - norm.cdf(runs_model.mu3-y))\n",
    "    prob_5run = (1 - px)*(1 - norm.cdf(x))*(norm.cdf(runs_model.mu5-y) - norm.cdf(runs_model.mu4-y))\n",
    "    prob_6run = (1 - px)*(1 - norm.cdf(x))*(1 - norm.cdf(runs_model.mu5 - y))\n",
    "    \n",
    "    return win_prob, prob_extra, prob_wicket, prob_0run, prob_1run, prob_2run, prob_3run, prob_4run, prob_5run, prob_6run\n",
    "\n",
    "def find_modified_target(F, runs_remaining, balls_left_init, wickets_left, balls_left_fin):\n",
    "    #Computes the adjusted runs to get when the second innings is shortened\n",
    "    reference = F[runs_remaining, balls_left_init, wickets_left]\n",
    "    \n",
    "    closest_target = None\n",
    "    min_diff = float('inf')\n",
    "    \n",
    "    max_r = F.shape[0]\n",
    "    for r in range(max_r):\n",
    "        diff = abs(F[r,balls_left_fin,wickets_left] - reference)\n",
    "        \n",
    "        if diff < min_diff:\n",
    "            min_diff = diff\n",
    "            closest_target = r\n",
    "            \n",
    "    return closest_target"
   ]
  }
 ],
 "metadata": {
  "kernelspec": {
   "display_name": "DataAnalytics",
   "language": "python",
   "name": "python3"
  },
  "language_info": {
   "codemirror_mode": {
    "name": "ipython",
    "version": 3
   },
   "file_extension": ".py",
   "mimetype": "text/x-python",
   "name": "python",
   "nbconvert_exporter": "python",
   "pygments_lexer": "ipython3",
   "version": "3.9.13"
  }
 },
 "nbformat": 4,
 "nbformat_minor": 4
}
